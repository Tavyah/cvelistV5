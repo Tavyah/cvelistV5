{
 "cells": [
  {
   "cell_type": "markdown",
   "metadata": {},
   "source": [
    "Intervju me Frode C:"
   ]
  },
  {
   "cell_type": "code",
   "execution_count": 1,
   "metadata": {},
   "outputs": [],
   "source": [
    "import find_all_cisco_product_vuln as vulns\n",
    "\n",
    "regex_string = \"cisco\"\n",
    "output = 'search_cisco_vuln.txt'\n",
    "critical_string_regex = '\"baseSeverity\": \"CRITICAL\"'\n",
    "vulns.search_for_vuln(regex_string, output, critical_string_regex)"
   ]
  }
 ],
 "metadata": {
  "kernelspec": {
   "display_name": "Python 3",
   "language": "python",
   "name": "python3"
  },
  "language_info": {
   "codemirror_mode": {
    "name": "ipython",
    "version": 3
   },
   "file_extension": ".py",
   "mimetype": "text/x-python",
   "name": "python",
   "nbconvert_exporter": "python",
   "pygments_lexer": "ipython3",
   "version": "3.12.4"
  }
 },
 "nbformat": 4,
 "nbformat_minor": 2
}
